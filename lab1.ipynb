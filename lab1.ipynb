{
 "cells": [
  {
   "cell_type": "code",
   "execution_count": 89,
   "metadata": {},
   "outputs": [],
   "source": [
    "import pandas as pd\n",
    "import numpy as np\n",
    "import matplotlib.pyplot as plt\n",
    "import seaborn as sns\n"
   ]
  },
  {
   "cell_type": "markdown",
   "metadata": {},
   "source": [
    "### Downloading Dataset"
   ]
  },
  {
   "cell_type": "code",
   "execution_count": 90,
   "metadata": {},
   "outputs": [],
   "source": [
    "df_obesity = pd.read_csv(\"data/ObesityDataSet.csv\")\n",
    "df_obesity = df_obesity.rename(columns={'family_history_with_overweight': 'FAM_OVERWEIGHT', 'NObeyesdad': 'Obesity_level'})\n",
    "TARGET_VAR = 'Obesity_level'\n",
    "OTHER_FEATURES = df_obesity.keys().drop(['Obesity_level'])"
   ]
  },
  {
   "cell_type": "code",
   "execution_count": null,
   "metadata": {},
   "outputs": [],
   "source": [
    "df_obesity.info()"
   ]
  },
  {
   "cell_type": "code",
   "execution_count": null,
   "metadata": {},
   "outputs": [],
   "source": [
    "df_obesity"
   ]
  },
  {
   "cell_type": "code",
   "execution_count": null,
   "metadata": {},
   "outputs": [],
   "source": [
    "set(df_obesity['MTRANS'])"
   ]
  },
  {
   "cell_type": "code",
   "execution_count": 94,
   "metadata": {},
   "outputs": [],
   "source": [
    "# Walking -> 0\n",
    "# Bike -> 0.15\n",
    "# Public -> 0.5\n",
    "# Motor -> 0.75\n",
    "# Automobile -> 1\n",
    "\n",
    "df_obesity['MTRANS'] = df_obesity['MTRANS'].map({'Walking': 0.0, 'Bike': 0.15, 'Public_Transportation': 0.5, 'Motorbike': 0.75, 'Automobile': 1.0})"
   ]
  },
  {
   "cell_type": "code",
   "execution_count": null,
   "metadata": {},
   "outputs": [],
   "source": [
    "set(df_obesity['CAEC']), set(df_obesity['CALC'])"
   ]
  },
  {
   "cell_type": "code",
   "execution_count": 96,
   "metadata": {},
   "outputs": [],
   "source": [
    "FREQ_CATEG_to_NUM = {'Always' : 1.0, 'Frequently' : 0.66, 'Sometimes' : 0.33, 'no' : 0.0}\n",
    "\n",
    "df_obesity['CAEC'] = df_obesity['CAEC'].map(FREQ_CATEG_to_NUM)\n",
    "df_obesity['CALC'] = df_obesity['CALC'].map(FREQ_CATEG_to_NUM)"
   ]
  },
  {
   "cell_type": "code",
   "execution_count": null,
   "metadata": {},
   "outputs": [],
   "source": [
    "set(df_obesity['FAM_OVERWEIGHT']), set(df_obesity['FAVC']), set(df_obesity['SMOKE']), set(df_obesity['SCC'])"
   ]
  },
  {
   "cell_type": "code",
   "execution_count": 98,
   "metadata": {},
   "outputs": [],
   "source": [
    "BIN_CATEG_to_NUM = {'yes' : 1.0, 'no' : 0.0}\n",
    "\n",
    "df_obesity['FAM_OVERWEIGHT'] = df_obesity['FAM_OVERWEIGHT'].map(BIN_CATEG_to_NUM)\n",
    "df_obesity['FAVC'] = df_obesity['FAVC'].map(BIN_CATEG_to_NUM)\n",
    "df_obesity['SMOKE'] = df_obesity['SMOKE'].map(BIN_CATEG_to_NUM)\n",
    "df_obesity['SCC'] = df_obesity['SCC'].map(BIN_CATEG_to_NUM)"
   ]
  },
  {
   "cell_type": "code",
   "execution_count": null,
   "metadata": {},
   "outputs": [],
   "source": [
    "set(df_obesity['Gender'])"
   ]
  },
  {
   "cell_type": "code",
   "execution_count": 100,
   "metadata": {},
   "outputs": [],
   "source": [
    "df_obesity['Gender'] = df_obesity['Gender'].map({'Male': 1.0, 'Female': 0.0})"
   ]
  },
  {
   "cell_type": "code",
   "execution_count": null,
   "metadata": {},
   "outputs": [],
   "source": [
    "set(df_obesity['Obesity_level'])\n"
   ]
  },
  {
   "cell_type": "code",
   "execution_count": 102,
   "metadata": {},
   "outputs": [],
   "source": [
    "OBESITY_TRANSFORM_MAP = {'Insufficient_Weight' : 0,\n",
    "                         'Normal_Weight'       : 1,\n",
    "                         'Overweight_Level_I'  : 2,\n",
    "                         'Overweight_Level_II' : 3,\n",
    "                         'Obesity_Type_I'      : 4,\n",
    "                         'Obesity_Type_II'     : 5,\n",
    "                         'Obesity_Type_III'    : 6}\n",
    "\n",
    "df_obesity['Obesity_level'] = df_obesity['Obesity_level'].map(OBESITY_TRANSFORM_MAP)"
   ]
  },
  {
   "cell_type": "code",
   "execution_count": null,
   "metadata": {},
   "outputs": [],
   "source": [
    "list(OBESITY_TRANSFORM_MAP.keys())"
   ]
  },
  {
   "cell_type": "code",
   "execution_count": null,
   "metadata": {},
   "outputs": [],
   "source": [
    "df_obesity.info()"
   ]
  },
  {
   "cell_type": "code",
   "execution_count": null,
   "metadata": {},
   "outputs": [],
   "source": [
    "corr = df_obesity.corr()\n",
    "fig, ax = plt.subplots(figsize=(10, 10))\n",
    "sns.heatmap(corr,  cmap='coolwarm', annot=True, fmt=\".2f\")\n",
    "plt.show()"
   ]
  },
  {
   "cell_type": "markdown",
   "metadata": {},
   "source": [
    "# Plots"
   ]
  },
  {
   "cell_type": "code",
   "execution_count": 106,
   "metadata": {},
   "outputs": [],
   "source": [
    "# for i in range(len(OTHER_FEATURES)):\n",
    "#     fig_bp = plt.figure()\n",
    "#     ax_bp = sns.boxplot(x=TARGET_VAR, y=OTHER_FEATURES[i], data=df_obesity)"
   ]
  },
  {
   "cell_type": "code",
   "execution_count": null,
   "metadata": {},
   "outputs": [],
   "source": [
    "# sns.pairplot(df_obesity.drop(['Gender', 'SMOKE', 'FAM_OVERWEIGHT', 'SCC', 'FAVC'], axis=1), hue=TARGET_VAR, palette = 'Set1')"
   ]
  },
  {
   "cell_type": "markdown",
   "metadata": {},
   "source": [
    "# Data normalization"
   ]
  },
  {
   "cell_type": "code",
   "execution_count": null,
   "metadata": {},
   "outputs": [],
   "source": []
  },
  {
   "cell_type": "code",
   "execution_count": null,
   "metadata": {},
   "outputs": [],
   "source": [
    "from sklearn.preprocessing import LabelEncoder\n",
    "\n",
    "enc_m = LabelEncoder()\n",
    "enc_m.fit([f\"{code} ({level})\" for [level, code] in OBESITY_TRANSFORM_MAP.items()])\n",
    "df_obesity['Obesity_level'] = enc_m.inverse_transform(df_obesity['Obesity_level'])\n",
    "\n",
    "df_obesity"
   ]
  },
  {
   "cell_type": "markdown",
   "metadata": {},
   "source": [
    "### Spliting into train and test sets"
   ]
  },
  {
   "cell_type": "code",
   "execution_count": 85,
   "metadata": {},
   "outputs": [],
   "source": [
    "from sklearn.model_selection import train_test_split\n",
    "\n",
    "X, y = df_obesity.drop(['Obesity_level'], axis=1), df_obesity['Obesity_level']\n",
    "\n",
    "X_train, X_test, y_train, y_test = train_test_split(X, y, test_size=0.3)"
   ]
  },
  {
   "cell_type": "markdown",
   "metadata": {},
   "source": [
    "### Standardizing the Variables"
   ]
  },
  {
   "cell_type": "code",
   "execution_count": 86,
   "metadata": {},
   "outputs": [],
   "source": [
    "from sklearn.preprocessing import StandardScaler\n",
    "\n",
    "scaler = StandardScaler()\n",
    "scaler.fit(X_train)\n",
    "X_train = scaler.transform(X_train)\n",
    "X_test = scaler.transform(X_test)"
   ]
  },
  {
   "cell_type": "markdown",
   "metadata": {},
   "source": [
    "## kNN model"
   ]
  },
  {
   "cell_type": "code",
   "execution_count": null,
   "metadata": {},
   "outputs": [],
   "source": []
  }
 ],
 "metadata": {
  "kernelspec": {
   "display_name": "Python 3",
   "language": "python",
   "name": "python3"
  },
  "language_info": {
   "codemirror_mode": {
    "name": "ipython",
    "version": 3
   },
   "file_extension": ".py",
   "mimetype": "text/x-python",
   "name": "python",
   "nbconvert_exporter": "python",
   "pygments_lexer": "ipython3",
   "version": "3.12.7"
  }
 },
 "nbformat": 4,
 "nbformat_minor": 2
}
